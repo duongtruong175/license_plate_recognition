{
 "cells": [
  {
   "cell_type": "markdown",
   "metadata": {},
   "source": [
    "# Phát hiện biển số xe sử dụng phương pháp YOLO\n",
    "Bài toán sử dụng phương pháp YOLO để phát hiện ra vùng chứa biển số xe.\n",
    "\n",
    "Từ đó tiếp tục làm các bước:\n",
    "- phân đoạn ký tự trong biển số xe\n",
    "- nhận dạng ký tự bằng CNN"
   ]
  },
  {
   "cell_type": "code",
   "execution_count": 13,
   "metadata": {},
   "outputs": [],
   "source": [
    "from lp_detection import lp_detect_using_yolo\n",
    "from character_segmentation import segment_characters\n",
    "from lp_recognition import lp_recognize\n",
    "\n",
    "import pandas as pd\n",
    "import os\n",
    "import cv2\n",
    "from keras.models import load_model\n"
   ]
  },
  {
   "cell_type": "markdown",
   "metadata": {},
   "source": [
    "## Test dataset\n",
    "Gồm 186 ảnh\n",
    "- labels.xlsx chứa giá trị biển số đúng"
   ]
  },
  {
   "cell_type": "code",
   "execution_count": 14,
   "metadata": {},
   "outputs": [
    {
     "data": {
      "text/html": [
       "<div>\n",
       "<style scoped>\n",
       "    .dataframe tbody tr th:only-of-type {\n",
       "        vertical-align: middle;\n",
       "    }\n",
       "\n",
       "    .dataframe tbody tr th {\n",
       "        vertical-align: top;\n",
       "    }\n",
       "\n",
       "    .dataframe thead th {\n",
       "        text-align: right;\n",
       "    }\n",
       "</style>\n",
       "<table border=\"1\" class=\"dataframe\">\n",
       "  <thead>\n",
       "    <tr style=\"text-align: right;\">\n",
       "      <th></th>\n",
       "      <th>ID</th>\n",
       "      <th>NUMBER</th>\n",
       "    </tr>\n",
       "  </thead>\n",
       "  <tbody>\n",
       "    <tr>\n",
       "      <th>0</th>\n",
       "      <td>1</td>\n",
       "      <td>KL55R2473</td>\n",
       "    </tr>\n",
       "    <tr>\n",
       "      <th>1</th>\n",
       "      <td>2</td>\n",
       "      <td>GJW115A1138</td>\n",
       "    </tr>\n",
       "    <tr>\n",
       "      <th>2</th>\n",
       "      <td>3</td>\n",
       "      <td>KL16J3636</td>\n",
       "    </tr>\n",
       "    <tr>\n",
       "      <th>3</th>\n",
       "      <td>4</td>\n",
       "      <td>MH20EE7598</td>\n",
       "    </tr>\n",
       "    <tr>\n",
       "      <th>4</th>\n",
       "      <td>5</td>\n",
       "      <td>PJJ1L76</td>\n",
       "    </tr>\n",
       "    <tr>\n",
       "      <th>5</th>\n",
       "      <td>6</td>\n",
       "      <td>HR26DA2330</td>\n",
       "    </tr>\n",
       "    <tr>\n",
       "      <th>6</th>\n",
       "      <td>7</td>\n",
       "      <td>HR268P3543</td>\n",
       "    </tr>\n",
       "    <tr>\n",
       "      <th>7</th>\n",
       "      <td>8</td>\n",
       "      <td>HR26CT6Y02</td>\n",
       "    </tr>\n",
       "    <tr>\n",
       "      <th>8</th>\n",
       "      <td>9</td>\n",
       "      <td>KL01BR8055</td>\n",
       "    </tr>\n",
       "    <tr>\n",
       "      <th>9</th>\n",
       "      <td>10</td>\n",
       "      <td>KL7BZ99</td>\n",
       "    </tr>\n",
       "  </tbody>\n",
       "</table>\n",
       "</div>"
      ],
      "text/plain": [
       "   ID       NUMBER\n",
       "0   1    KL55R2473\n",
       "1   2  GJW115A1138\n",
       "2   3    KL16J3636\n",
       "3   4   MH20EE7598\n",
       "4   5      PJJ1L76\n",
       "5   6   HR26DA2330\n",
       "6   7   HR268P3543\n",
       "7   8   HR26CT6Y02\n",
       "8   9   KL01BR8055\n",
       "9  10      KL7BZ99"
      ]
     },
     "execution_count": 14,
     "metadata": {},
     "output_type": "execute_result"
    }
   ],
   "source": [
    "# đọc các labels\n",
    "labels = pd.read_excel('test_dataset/labels.xlsx', engine='openpyxl')\n",
    "labels['ID'] = labels['ID'].map(str)\n",
    "# in thử 10 giá trị\n",
    "labels[0:10]\n"
   ]
  },
  {
   "cell_type": "markdown",
   "metadata": {},
   "source": [
    "## Khởi tạo các tham số của YOLO"
   ]
  },
  {
   "cell_type": "code",
   "execution_count": 15,
   "metadata": {},
   "outputs": [],
   "source": [
    "# Khởi tạo các tham số\n",
    "confThreshold = 0.5 # ngưỡng tin cậy\n",
    "nmsThreshold = 0.4  # Ngưỡng ngăn chặn không tối đa\n",
    "\n",
    "inputWidth = 416 # width của ảnh đầu vào mạng YOLO\n",
    "inputHeight = 416 # height của ảnh đầu vào mạng YOLO\n",
    "\n",
    "# tải các tên của classes và nối thành một list\n",
    "classesFile = str(r\"yolo_utils/classes.names\")\n",
    "classes = None\n",
    "with open(classesFile, 'rt') as f:\n",
    "    classes = f.read().rstrip('\\n').split('\\n')\n",
    "\n",
    "# cung cấp các tệp cấu hình của mạng YOLO\n",
    "modelConfiguration = str(r\"yolo_utils/darknet-yolov3.cfg\")\n",
    "modelWeights = str(r\"yolo_utils/lapi.weights\")\n",
    "\n",
    "# khởi tạo model YOLO\n",
    "net = cv2.dnn.readNetFromDarknet(modelConfiguration, modelWeights)\n",
    "net.setPreferableBackend(cv2.dnn.DNN_BACKEND_OPENCV)\n",
    "net.setPreferableTarget(cv2.dnn.DNN_TARGET_CPU)"
   ]
  },
  {
   "cell_type": "code",
   "execution_count": 16,
   "metadata": {},
   "outputs": [
    {
     "name": "stdout",
     "output_type": "stream",
     "text": [
      "Accuracy: 56.62650602409639%\n"
     ]
    }
   ],
   "source": [
    "# đọc ảnh\n",
    "folder_path = str(r\"test_dataset/images/\")\n",
    "file_list = os.listdir(folder_path)\n",
    "\n",
    "# đọc model CNN\n",
    "loaded_model = load_model('weights/best_model.h5')\n",
    "\n",
    "count = 0  # biến chỉ số dự đoán chính xác\n",
    "\n",
    "# duyệt toàn bộ ảnh\n",
    "for path in file_list:\n",
    "    # lấy ra ID\n",
    "    id = path[:-4]\n",
    "    # lấy ra biển số\n",
    "    number_plate = labels['NUMBER'].where(labels['ID'] == id).dropna().values[0]\n",
    "    # đọc ảnh\n",
    "    image = cv2.imread(folder_path + path)\n",
    "\n",
    "    # phát hiện vùng chứa biển số\n",
    "    img_plate = lp_detect_using_yolo(net=net, frame=image, confThreshold=confThreshold, nmsThreshold=nmsThreshold, inputWidth=inputWidth, inputHeight=inputHeight)\n",
    "\n",
    "    # nếu tìm được biển\n",
    "    if img_plate is not None:\n",
    "        # phân đoạn ký tự\n",
    "        char_list = segment_characters(image=img_plate)\n",
    "\n",
    "        # nếu không phân tách được ký tự\n",
    "        if len(char_list) == 0:\n",
    "            continue\n",
    "\n",
    "        # nhận dạng ký tự\n",
    "        predict_plate = lp_recognize(model=loaded_model, char_list=char_list)\n",
    "\n",
    "        if predict_plate == number_plate:\n",
    "            count += 1\n",
    "\n",
    "# độ chính xác trên toàn bộ dataset\n",
    "print(\"Accuracy: \" + str((count/166)*100) + \"%\")\n"
   ]
  }
 ],
 "metadata": {
  "interpreter": {
   "hash": "aef14ca659a6d738f62ce4de1e560ce839b42b13d58a75b229187c6dd54a4ffd"
  },
  "kernelspec": {
   "display_name": "Python 3.6.8 64-bit ('btl': venv)",
   "language": "python",
   "name": "python3"
  },
  "language_info": {
   "codemirror_mode": {
    "name": "ipython",
    "version": 3
   },
   "file_extension": ".py",
   "mimetype": "text/x-python",
   "name": "python",
   "nbconvert_exporter": "python",
   "pygments_lexer": "ipython3",
   "version": "3.6.8"
  },
  "orig_nbformat": 4
 },
 "nbformat": 4,
 "nbformat_minor": 2
}
