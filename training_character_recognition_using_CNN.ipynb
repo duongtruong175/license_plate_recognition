{
 "cells": [
  {
   "cell_type": "markdown",
   "metadata": {},
   "source": [
    "## Nhận dạng ký tự trong biển xe bằng CNN"
   ]
  },
  {
   "cell_type": "code",
   "execution_count": 1,
   "metadata": {},
   "outputs": [
    {
     "name": "stderr",
     "output_type": "stream",
     "text": [
      "Using TensorFlow backend.\n"
     ]
    }
   ],
   "source": [
    "from keras.layers import Flatten, Dense, Conv2D, MaxPooling2D, Dropout\n",
    "from keras.models import Sequential\n",
    "from keras.preprocessing.image import ImageDataGenerator\n",
    "from keras.optimizers import Adam\n",
    "import keras.backend as K\n",
    "from keras.callbacks import ModelCheckpoint\n"
   ]
  },
  {
   "cell_type": "markdown",
   "metadata": {},
   "source": [
    "### Đọc dữ liệu từ tập dataset\n",
    "Thư mục character_dataset\n",
    "Sử dụng lớp ImageDataGenerator:\n",
    "- rescale: giảm giá trị dữ liệu (ảnh RGB [0,255]) về [0,1] để xử lý dễ dàng.\n",
    "- width_shift_range, height_shift_range được sử dụng để tạo thêm dữ liệu cho bộ huấn luyện. Giá trị float: ảnh được dịch sang trái/phải (width) hoặc lên/xuống (height) một khoảng gia_tri_float*kich_thuoc_anh.\n",
    "- resize các ảnh về 28x28."
   ]
  },
  {
   "cell_type": "code",
   "execution_count": 2,
   "metadata": {},
   "outputs": [
    {
     "name": "stdout",
     "output_type": "stream",
     "text": [
      "Found 864 images belonging to 36 classes.\n",
      "Found 216 images belonging to 36 classes.\n"
     ]
    }
   ],
   "source": [
    "dataset = ImageDataGenerator(\n",
    "    rescale=1./255,\n",
    "    width_shift_range=0.1,\n",
    "    height_shift_range=0.1)\n",
    "\n",
    "path = 'character_dataset'\n",
    "\n",
    "train = dataset.flow_from_directory(\n",
    "    path+'/train',  # đường dẫn thư mục\n",
    "    target_size=(28, 28),  # resize các ảnh về 28x28\n",
    "    batch_size=1,  # kích thước lô dữ liệu\n",
    "    class_mode='categorical')\n",
    "\n",
    "validation = dataset.flow_from_directory(\n",
    "    path+'/val',\n",
    "    target_size=(28, 28),\n",
    "    batch_size=1,\n",
    "    class_mode='categorical')\n"
   ]
  },
  {
   "cell_type": "markdown",
   "metadata": {},
   "source": [
    "### Khởi tạo mô hình CNN\n",
    "Mô hình sẽ gồm các layers:\n",
    "- 2 convolutional nối tiếp, mỗi lớp tích chập có 32 nơ-ron kích thước (3x3) với hàm kích hoạt là 'relu', padding là 'same'.\n",
    "- MaxPooling với kích thước cửa số (2x2), giúp giảm kích thước khối dữ liệu để giảm bộ nhớ và khối lượng tính toán nhưng vẫn giữ được các đặc trưng được trích xuất từ lớp tích chập.\n",
    "- tiếp theo là 2 convolutional nối tiếp, mỗi lớp tích chập có 64 nơ-ron kích thước (3x3) với hàm kích hoạt là 'relu', padding là 'same'.\n",
    "- MaxPooling với kích thước cửa số (2x2).\n",
    "- Dropout: loại bỏ một số tỷ lệ bỏ học để tránh overfitting. Dropout là một siêu thông số chính quy được khởi tạo để ngăn Neural Network bị overfitting. Chọn dropout=0,4 có nghĩa là 60% nút sẽ được giữ lại.\n",
    "- Flatten: lớp làm phẳng dữ liệu nút. Lớp làm phẳng lấy dữ liệu từ lớp trước và thể hiện nó trong một chiều duy nhất.\n",
    "- 2 lớp fully connected: 2 lớp Dense output ra 36 nhãn (26 chữ cái + 10 chữ số) với hàm kích hoạt ở lớp cuối cùng là 'softmax' (do là bài toán phân loại nhiều lớp)\n",
    "\n",
    "Các tham số sử dụng:\n",
    "- dropout rate: 0.4\n",
    "- learning rate: 0.0001\n",
    "- trình tối ưu optimizer: adam\n",
    "- loss function: categorical_crossentropy"
   ]
  },
  {
   "cell_type": "code",
   "execution_count": 3,
   "metadata": {},
   "outputs": [
    {
     "name": "stdout",
     "output_type": "stream",
     "text": [
      "WARNING:tensorflow:From d:\\Hust\\20211\\ThiGiacMayTinh\\BTL\\btl\\lib\\site-packages\\keras\\backend\\tensorflow_backend.py:95: The name tf.reset_default_graph is deprecated. Please use tf.compat.v1.reset_default_graph instead.\n",
      "\n",
      "WARNING:tensorflow:From d:\\Hust\\20211\\ThiGiacMayTinh\\BTL\\btl\\lib\\site-packages\\keras\\backend\\tensorflow_backend.py:98: The name tf.placeholder_with_default is deprecated. Please use tf.compat.v1.placeholder_with_default instead.\n",
      "\n",
      "WARNING:tensorflow:From d:\\Hust\\20211\\ThiGiacMayTinh\\BTL\\btl\\lib\\site-packages\\keras\\backend\\tensorflow_backend.py:102: The name tf.get_default_graph is deprecated. Please use tf.compat.v1.get_default_graph instead.\n",
      "\n",
      "WARNING:tensorflow:From d:\\Hust\\20211\\ThiGiacMayTinh\\BTL\\btl\\lib\\site-packages\\keras\\backend\\tensorflow_backend.py:517: The name tf.placeholder is deprecated. Please use tf.compat.v1.placeholder instead.\n",
      "\n",
      "WARNING:tensorflow:From d:\\Hust\\20211\\ThiGiacMayTinh\\BTL\\btl\\lib\\site-packages\\keras\\backend\\tensorflow_backend.py:4138: The name tf.random_uniform is deprecated. Please use tf.random.uniform instead.\n",
      "\n",
      "WARNING:tensorflow:From d:\\Hust\\20211\\ThiGiacMayTinh\\BTL\\btl\\lib\\site-packages\\keras\\backend\\tensorflow_backend.py:3976: The name tf.nn.max_pool is deprecated. Please use tf.nn.max_pool2d instead.\n",
      "\n",
      "WARNING:tensorflow:From d:\\Hust\\20211\\ThiGiacMayTinh\\BTL\\btl\\lib\\site-packages\\keras\\backend\\tensorflow_backend.py:3445: calling dropout (from tensorflow.python.ops.nn_ops) with keep_prob is deprecated and will be removed in a future version.\n",
      "Instructions for updating:\n",
      "Please use `rate` instead of `keep_prob`. Rate should be set to `rate = 1 - keep_prob`.\n",
      "WARNING:tensorflow:From d:\\Hust\\20211\\ThiGiacMayTinh\\BTL\\btl\\lib\\site-packages\\keras\\optimizers.py:790: The name tf.train.Optimizer is deprecated. Please use tf.compat.v1.train.Optimizer instead.\n",
      "\n"
     ]
    }
   ],
   "source": [
    "K.clear_session()\n",
    "model = Sequential() # tạo 1 lớp tuần tự\n",
    "model.add(Conv2D(32, (3, 3), input_shape=(28, 28, 3), activation='relu', padding='same'))\n",
    "model.add(Conv2D(32, (3, 3), activation='relu', padding='same'))\n",
    "model.add(MaxPooling2D(pool_size=(2, 2)))\n",
    "model.add(Conv2D(64, (3, 3), activation='relu', padding='same'))\n",
    "model.add(Conv2D(64, (3, 3), activation='relu', padding='same'))\n",
    "model.add(MaxPooling2D(pool_size=(2, 2)))\n",
    "model.add(Dropout(0.4))\n",
    "model.add(Flatten())\n",
    "model.add(Dense(128, activation='relu'))\n",
    "model.add(Dense(36, activation='softmax'))\n",
    "\n",
    "model.compile(loss='categorical_crossentropy', optimizer=Adam(lr=0.0001), metrics=['accuracy'])\n"
   ]
  },
  {
   "cell_type": "code",
   "execution_count": 4,
   "metadata": {},
   "outputs": [
    {
     "name": "stdout",
     "output_type": "stream",
     "text": [
      "_________________________________________________________________\n",
      "Layer (type)                 Output Shape              Param #   \n",
      "=================================================================\n",
      "conv2d_1 (Conv2D)            (None, 28, 28, 32)        896       \n",
      "_________________________________________________________________\n",
      "conv2d_2 (Conv2D)            (None, 28, 28, 32)        9248      \n",
      "_________________________________________________________________\n",
      "max_pooling2d_1 (MaxPooling2 (None, 14, 14, 32)        0         \n",
      "_________________________________________________________________\n",
      "conv2d_3 (Conv2D)            (None, 14, 14, 64)        18496     \n",
      "_________________________________________________________________\n",
      "conv2d_4 (Conv2D)            (None, 14, 14, 64)        36928     \n",
      "_________________________________________________________________\n",
      "max_pooling2d_2 (MaxPooling2 (None, 7, 7, 64)          0         \n",
      "_________________________________________________________________\n",
      "dropout_1 (Dropout)          (None, 7, 7, 64)          0         \n",
      "_________________________________________________________________\n",
      "flatten_1 (Flatten)          (None, 3136)              0         \n",
      "_________________________________________________________________\n",
      "dense_1 (Dense)              (None, 128)               401536    \n",
      "_________________________________________________________________\n",
      "dense_2 (Dense)              (None, 36)                4644      \n",
      "=================================================================\n",
      "Total params: 471,748\n",
      "Trainable params: 471,748\n",
      "Non-trainable params: 0\n",
      "_________________________________________________________________\n"
     ]
    }
   ],
   "source": [
    "# tóm tắt cấu trúc mạng\n",
    "model.summary()"
   ]
  },
  {
   "cell_type": "markdown",
   "metadata": {},
   "source": [
    "# Huấn luyện mô hình\n",
    "\n",
    "``` batch_size = 1 ``` và ``` step_per_epoch = train.samples // batch_size ``` để đảm bảo sẽ sử dụng tất cả dữ liệu tập train trong 1 epoch"
   ]
  },
  {
   "cell_type": "code",
   "execution_count": 5,
   "metadata": {},
   "outputs": [
    {
     "name": "stdout",
     "output_type": "stream",
     "text": [
      "WARNING:tensorflow:From d:\\Hust\\20211\\ThiGiacMayTinh\\BTL\\btl\\lib\\site-packages\\tensorflow\\python\\ops\\math_grad.py:1250: add_dispatch_support.<locals>.wrapper (from tensorflow.python.ops.array_ops) is deprecated and will be removed in a future version.\n",
      "Instructions for updating:\n",
      "Use tf.where in 2.0, which has the same broadcast rule as np.where\n",
      "Epoch 1/30\n",
      "864/864 [==============================] - 21s 24ms/step - loss: 3.0600 - acc: 0.1933 - val_loss: 1.5528 - val_acc: 0.5648\n",
      "\n",
      "Epoch 00001: val_acc improved from -inf to 0.56481, saving model to weights/model.h5\n",
      "Epoch 2/30\n",
      "864/864 [==============================] - 11s 13ms/step - loss: 1.1489 - acc: 0.6458 - val_loss: 0.7093 - val_acc: 0.8194\n",
      "\n",
      "Epoch 00002: val_acc improved from 0.56481 to 0.81944, saving model to weights/model.h5\n",
      "Epoch 3/30\n",
      "864/864 [==============================] - 11s 13ms/step - loss: 0.6668 - acc: 0.7928 - val_loss: 0.3745 - val_acc: 0.8611\n",
      "\n",
      "Epoch 00003: val_acc improved from 0.81944 to 0.86111, saving model to weights/model.h5\n",
      "Epoch 4/30\n",
      "864/864 [==============================] - 12s 13ms/step - loss: 0.4186 - acc: 0.8600 - val_loss: 0.1785 - val_acc: 0.9259\n",
      "\n",
      "Epoch 00004: val_acc improved from 0.86111 to 0.92593, saving model to weights/model.h5\n",
      "Epoch 5/30\n",
      "864/864 [==============================] - 10s 12ms/step - loss: 0.3586 - acc: 0.8866 - val_loss: 0.2494 - val_acc: 0.9306\n",
      "\n",
      "Epoch 00005: val_acc improved from 0.92593 to 0.93056, saving model to weights/model.h5\n",
      "Epoch 6/30\n",
      "864/864 [==============================] - 11s 12ms/step - loss: 0.2932 - acc: 0.8993 - val_loss: 0.2841 - val_acc: 0.9028\n",
      "\n",
      "Epoch 00006: val_acc did not improve from 0.93056\n",
      "Epoch 7/30\n",
      "864/864 [==============================] - 11s 13ms/step - loss: 0.2340 - acc: 0.9236 - val_loss: 0.1258 - val_acc: 0.9537\n",
      "\n",
      "Epoch 00007: val_acc improved from 0.93056 to 0.95370, saving model to weights/model.h5\n",
      "Epoch 8/30\n",
      "864/864 [==============================] - 10s 11ms/step - loss: 0.2310 - acc: 0.9213 - val_loss: 0.1549 - val_acc: 0.9491\n",
      "\n",
      "Epoch 00008: val_acc did not improve from 0.95370\n",
      "Epoch 9/30\n",
      "864/864 [==============================] - 10s 12ms/step - loss: 0.1691 - acc: 0.9468 - val_loss: 0.1439 - val_acc: 0.9398\n",
      "\n",
      "Epoch 00009: val_acc did not improve from 0.95370\n",
      "Epoch 10/30\n",
      "864/864 [==============================] - 10s 12ms/step - loss: 0.1459 - acc: 0.9479 - val_loss: 0.0789 - val_acc: 0.9676\n",
      "\n",
      "Epoch 00010: val_acc improved from 0.95370 to 0.96759, saving model to weights/model.h5\n",
      "Epoch 11/30\n",
      "864/864 [==============================] - 11s 13ms/step - loss: 0.1424 - acc: 0.9491 - val_loss: 0.0637 - val_acc: 0.9630\n",
      "\n",
      "Epoch 00011: val_acc did not improve from 0.96759\n",
      "Epoch 12/30\n",
      "864/864 [==============================] - 13s 15ms/step - loss: 0.1368 - acc: 0.9491 - val_loss: 0.0673 - val_acc: 0.9722\n",
      "\n",
      "Epoch 00012: val_acc improved from 0.96759 to 0.97222, saving model to weights/model.h5\n",
      "Epoch 13/30\n",
      "864/864 [==============================] - 13s 14ms/step - loss: 0.1218 - acc: 0.9583 - val_loss: 0.0564 - val_acc: 0.9769\n",
      "\n",
      "Epoch 00013: val_acc improved from 0.97222 to 0.97685, saving model to weights/model.h5\n",
      "Epoch 14/30\n",
      "864/864 [==============================] - 10s 12ms/step - loss: 0.1213 - acc: 0.9583 - val_loss: 0.0629 - val_acc: 0.9815\n",
      "\n",
      "Epoch 00014: val_acc improved from 0.97685 to 0.98148, saving model to weights/model.h5\n",
      "Epoch 15/30\n",
      "864/864 [==============================] - 10s 11ms/step - loss: 0.0948 - acc: 0.9722 - val_loss: 0.0749 - val_acc: 0.9769\n",
      "\n",
      "Epoch 00015: val_acc did not improve from 0.98148\n",
      "Epoch 16/30\n",
      "864/864 [==============================] - 12s 14ms/step - loss: 0.0994 - acc: 0.9653 - val_loss: 0.0742 - val_acc: 0.9722\n",
      "\n",
      "Epoch 00016: val_acc did not improve from 0.98148\n",
      "Epoch 17/30\n",
      "864/864 [==============================] - 11s 13ms/step - loss: 0.1037 - acc: 0.9618 - val_loss: 0.0431 - val_acc: 0.9861\n",
      "\n",
      "Epoch 00017: val_acc improved from 0.98148 to 0.98611, saving model to weights/model.h5\n",
      "Epoch 18/30\n",
      "864/864 [==============================] - 12s 14ms/step - loss: 0.0931 - acc: 0.9711 - val_loss: 0.0703 - val_acc: 0.9676\n",
      "\n",
      "Epoch 00018: val_acc did not improve from 0.98611\n",
      "Epoch 19/30\n",
      "864/864 [==============================] - 11s 13ms/step - loss: 0.0920 - acc: 0.9734 - val_loss: 0.0339 - val_acc: 0.9861\n",
      "\n",
      "Epoch 00019: val_acc did not improve from 0.98611\n",
      "Epoch 20/30\n",
      "864/864 [==============================] - 12s 14ms/step - loss: 0.0811 - acc: 0.9676 - val_loss: 0.0981 - val_acc: 0.9676\n",
      "\n",
      "Epoch 00020: val_acc did not improve from 0.98611\n",
      "Epoch 21/30\n",
      "864/864 [==============================] - 12s 14ms/step - loss: 0.0747 - acc: 0.9757 - val_loss: 0.0921 - val_acc: 0.9769\n",
      "\n",
      "Epoch 00021: val_acc did not improve from 0.98611\n",
      "Epoch 22/30\n",
      "864/864 [==============================] - 12s 14ms/step - loss: 0.0718 - acc: 0.9757 - val_loss: 0.0469 - val_acc: 0.9815\n",
      "\n",
      "Epoch 00022: val_acc did not improve from 0.98611\n",
      "Epoch 23/30\n",
      "864/864 [==============================] - 13s 15ms/step - loss: 0.0596 - acc: 0.9769 - val_loss: 0.0312 - val_acc: 0.9954\n",
      "\n",
      "Epoch 00023: val_acc improved from 0.98611 to 0.99537, saving model to weights/model.h5\n",
      "Epoch 24/30\n",
      "864/864 [==============================] - 13s 15ms/step - loss: 0.0773 - acc: 0.9780 - val_loss: 0.0468 - val_acc: 0.9769\n",
      "\n",
      "Epoch 00024: val_acc did not improve from 0.99537\n",
      "Epoch 25/30\n",
      "864/864 [==============================] - 11s 12ms/step - loss: 0.0593 - acc: 0.9792 - val_loss: 0.0517 - val_acc: 0.9769\n",
      "\n",
      "Epoch 00025: val_acc did not improve from 0.99537\n",
      "Epoch 26/30\n",
      "864/864 [==============================] - 11s 12ms/step - loss: 0.0832 - acc: 0.9676 - val_loss: 0.0344 - val_acc: 0.9861\n",
      "\n",
      "Epoch 00026: val_acc did not improve from 0.99537\n",
      "Epoch 27/30\n",
      "864/864 [==============================] - 12s 13ms/step - loss: 0.0770 - acc: 0.9734 - val_loss: 0.0263 - val_acc: 0.9861\n",
      "\n",
      "Epoch 00027: val_acc did not improve from 0.99537\n",
      "Epoch 28/30\n",
      "864/864 [==============================] - 13s 16ms/step - loss: 0.0585 - acc: 0.9780 - val_loss: 0.0359 - val_acc: 0.9815\n",
      "\n",
      "Epoch 00028: val_acc did not improve from 0.99537\n",
      "Epoch 29/30\n",
      "864/864 [==============================] - 13s 15ms/step - loss: 0.0605 - acc: 0.9757 - val_loss: 0.0221 - val_acc: 0.9907\n",
      "\n",
      "Epoch 00029: val_acc did not improve from 0.99537\n",
      "Epoch 30/30\n",
      "864/864 [==============================] - 11s 13ms/step - loss: 0.0536 - acc: 0.9769 - val_loss: 0.0584 - val_acc: 0.9722\n",
      "\n",
      "Epoch 00030: val_acc did not improve from 0.99537\n"
     ]
    }
   ],
   "source": [
    "mc = ModelCheckpoint('weights/model.h5', monitor='val_acc', mode='max', verbose=1, save_best_only=True)\n",
    "\n",
    "batch_size = 1\n",
    "result = model.fit_generator(\n",
    "    train,\n",
    "    steps_per_epoch=train.samples // batch_size,\n",
    "    validation_data=validation,\n",
    "    validation_steps=validation.samples // batch_size,\n",
    "    epochs=30, verbose=1, callbacks=[mc])\n"
   ]
  },
  {
   "cell_type": "markdown",
   "metadata": {},
   "source": [
    "### Vẽ đồ thị kết quả quá trình training"
   ]
  },
  {
   "cell_type": "code",
   "execution_count": 6,
   "metadata": {},
   "outputs": [
    {
     "data": {
      "text/plain": [
       "<matplotlib.legend.Legend at 0x24554265780>"
      ]
     },
     "execution_count": 6,
     "metadata": {},
     "output_type": "execute_result"
    },
    {
     "data": {
      "image/png": "[encoded data removed]",
      "text/plain": [
       "<Figure size 1080x360 with 2 Axes>"
      ]
     },
     "metadata": {
      "needs_background": "light"
     },
     "output_type": "display_data"
    }
   ],
   "source": [
    "# Vẽ đồ thị kết quả training\n",
    "import matplotlib.pyplot as plt\n",
    "from matplotlib.gridspec import GridSpec\n",
    "\n",
    "fig = plt.figure(figsize=(15, 5))\n",
    "grid = GridSpec(ncols=2, nrows=1, figure=fig)\n",
    "\n",
    "fig.add_subplot(grid[0])\n",
    "plt.plot(result.history['acc'], label='training accuracy')\n",
    "plt.plot(result.history['val_acc'], label='val accuracy')\n",
    "plt.title('Accuracy')\n",
    "plt.xlabel('epochs')\n",
    "plt.ylabel('accuracy')\n",
    "plt.legend()\n",
    "\n",
    "fig.add_subplot(grid[1])\n",
    "plt.plot(result.history['loss'], label='training loss')\n",
    "plt.plot(result.history['val_loss'], label='val loss')\n",
    "plt.title('Loss')\n",
    "plt.xlabel('epochs')\n",
    "plt.ylabel('loss')\n",
    "plt.legend()\n"
   ]
  },
  {
   "cell_type": "markdown",
   "metadata": {},
   "source": [
    "### Thử nghiệm các mô hình khác\n",
    "Thử nghiệm thay đổi các lớp tích chập với kích thước khác nhau"
   ]
  },
  {
   "cell_type": "code",
   "execution_count": 7,
   "metadata": {},
   "outputs": [
    {
     "name": "stdout",
     "output_type": "stream",
     "text": [
      "Found 864 images belonging to 36 classes.\n",
      "Found 216 images belonging to 36 classes.\n",
      "_________________________________________________________________\n",
      "Layer (type)                 Output Shape              Param #   \n",
      "=================================================================\n",
      "conv2d_1 (Conv2D)            (None, 28, 28, 32)        2432      \n",
      "_________________________________________________________________\n",
      "max_pooling2d_1 (MaxPooling2 (None, 14, 14, 32)        0         \n",
      "_________________________________________________________________\n",
      "conv2d_2 (Conv2D)            (None, 14, 14, 64)        51264     \n",
      "_________________________________________________________________\n",
      "max_pooling2d_2 (MaxPooling2 (None, 7, 7, 64)          0         \n",
      "_________________________________________________________________\n",
      "dropout_1 (Dropout)          (None, 7, 7, 64)          0         \n",
      "_________________________________________________________________\n",
      "flatten_1 (Flatten)          (None, 3136)              0         \n",
      "_________________________________________________________________\n",
      "dense_1 (Dense)              (None, 128)               401536    \n",
      "_________________________________________________________________\n",
      "dense_2 (Dense)              (None, 36)                4644      \n",
      "=================================================================\n",
      "Total params: 459,876\n",
      "Trainable params: 459,876\n",
      "Non-trainable params: 0\n",
      "_________________________________________________________________\n"
     ]
    }
   ],
   "source": [
    "\"\"\"\n",
    "Sử dụng model 2\n",
    "\"\"\"\n",
    "\n",
    "from keras.layers import Flatten, Dense, Conv2D, MaxPooling2D, Dropout\n",
    "from keras.models import Sequential\n",
    "from keras.preprocessing.image import ImageDataGenerator\n",
    "from keras.optimizers import Adam\n",
    "import keras.backend as K\n",
    "from keras.callbacks import ModelCheckpoint\n",
    "\n",
    "dataset = ImageDataGenerator(\n",
    "    rescale=1./255,\n",
    "    width_shift_range=0.1,\n",
    "    height_shift_range=0.1)\n",
    "\n",
    "path = 'character_dataset'\n",
    "\n",
    "train = dataset.flow_from_directory(\n",
    "    path+'/train',  # đường dẫn thư mục\n",
    "    target_size=(28, 28),  # resize các ảnh về 28x28\n",
    "    batch_size=1,  # kích thước lô dữ liệu\n",
    "    class_mode='categorical')\n",
    "\n",
    "validation = dataset.flow_from_directory(\n",
    "    path+'/val',\n",
    "    target_size=(28, 28),\n",
    "    batch_size=1,\n",
    "    class_mode='categorical')\n",
    "\n",
    "K.clear_session()\n",
    "model = Sequential() # tạo 1 lớp tuần tự\n",
    "model.add(Conv2D(32, (5, 5), input_shape=(28, 28, 3), activation='relu', padding='same'))\n",
    "model.add(MaxPooling2D(pool_size=(2, 2)))\n",
    "model.add(Conv2D(64, (5, 5), activation='relu', padding='same'))\n",
    "model.add(MaxPooling2D(pool_size=(2, 2)))\n",
    "model.add(Dropout(0.4))\n",
    "model.add(Flatten())\n",
    "model.add(Dense(128, activation='relu'))\n",
    "model.add(Dense(36, activation='softmax'))\n",
    "\n",
    "model.compile(loss='categorical_crossentropy', optimizer=Adam(lr=0.0001), metrics=['accuracy'])\n",
    "\n",
    "model.summary()\n",
    "\n",
    "mc = ModelCheckpoint('weights/model2.h5', monitor='val_acc', mode='max', verbose=1, save_best_only=True)\n"
   ]
  },
  {
   "cell_type": "code",
   "execution_count": 8,
   "metadata": {},
   "outputs": [
    {
     "name": "stdout",
     "output_type": "stream",
     "text": [
      "Epoch 1/30\n",
      "864/864 [==============================] - 12s 14ms/step - loss: 3.0643 - acc: 0.1991 - val_loss: 1.7604 - val_acc: 0.5278\n",
      "\n",
      "Epoch 00001: val_acc improved from -inf to 0.52778, saving model to weights/model2.h5\n",
      "Epoch 2/30\n",
      "864/864 [==============================] - 11s 13ms/step - loss: 1.1993 - acc: 0.6377 - val_loss: 0.5546 - val_acc: 0.8333\n",
      "\n",
      "Epoch 00002: val_acc improved from 0.52778 to 0.83333, saving model to weights/model2.h5\n",
      "Epoch 3/30\n",
      "864/864 [==============================] - 13s 15ms/step - loss: 0.6462 - acc: 0.8044 - val_loss: 0.3677 - val_acc: 0.8889\n",
      "\n",
      "Epoch 00003: val_acc improved from 0.83333 to 0.88889, saving model to weights/model2.h5\n",
      "Epoch 4/30\n",
      "864/864 [==============================] - 12s 14ms/step - loss: 0.4368 - acc: 0.8553 - val_loss: 0.2961 - val_acc: 0.9028\n",
      "\n",
      "Epoch 00004: val_acc improved from 0.88889 to 0.90278, saving model to weights/model2.h5\n",
      "Epoch 5/30\n",
      "864/864 [==============================] - 11s 12ms/step - loss: 0.3256 - acc: 0.9016 - val_loss: 0.2271 - val_acc: 0.9306\n",
      "\n",
      "Epoch 00005: val_acc improved from 0.90278 to 0.93056, saving model to weights/model2.h5\n",
      "Epoch 6/30\n",
      "864/864 [==============================] - 13s 15ms/step - loss: 0.2843 - acc: 0.9167 - val_loss: 0.1779 - val_acc: 0.9259\n",
      "\n",
      "Epoch 00006: val_acc did not improve from 0.93056\n",
      "Epoch 7/30\n",
      "864/864 [==============================] - 12s 14ms/step - loss: 0.2220 - acc: 0.9294 - val_loss: 0.1215 - val_acc: 0.9769\n",
      "\n",
      "Epoch 00007: val_acc improved from 0.93056 to 0.97685, saving model to weights/model2.h5\n",
      "Epoch 8/30\n",
      "864/864 [==============================] - 14s 16ms/step - loss: 0.1904 - acc: 0.9375 - val_loss: 0.0938 - val_acc: 0.9676\n",
      "\n",
      "Epoch 00008: val_acc did not improve from 0.97685\n",
      "Epoch 9/30\n",
      "864/864 [==============================] - 10s 12ms/step - loss: 0.1765 - acc: 0.9502 - val_loss: 0.0702 - val_acc: 0.9861\n",
      "\n",
      "Epoch 00009: val_acc improved from 0.97685 to 0.98611, saving model to weights/model2.h5\n",
      "Epoch 10/30\n",
      "864/864 [==============================] - 12s 14ms/step - loss: 0.1625 - acc: 0.9479 - val_loss: 0.1496 - val_acc: 0.9491\n",
      "\n",
      "Epoch 00010: val_acc did not improve from 0.98611\n",
      "Epoch 11/30\n",
      "864/864 [==============================] - 10s 12ms/step - loss: 0.1690 - acc: 0.9502 - val_loss: 0.0834 - val_acc: 0.9722\n",
      "\n",
      "Epoch 00011: val_acc did not improve from 0.98611\n",
      "Epoch 12/30\n",
      "864/864 [==============================] - 11s 13ms/step - loss: 0.1530 - acc: 0.9537 - val_loss: 0.0904 - val_acc: 0.9676\n",
      "\n",
      "Epoch 00012: val_acc did not improve from 0.98611\n",
      "Epoch 13/30\n",
      "864/864 [==============================] - 11s 12ms/step - loss: 0.1248 - acc: 0.9664 - val_loss: 0.0816 - val_acc: 0.9722\n",
      "\n",
      "Epoch 00013: val_acc did not improve from 0.98611\n",
      "Epoch 14/30\n",
      "864/864 [==============================] - 12s 13ms/step - loss: 0.1173 - acc: 0.9630 - val_loss: 0.0891 - val_acc: 0.9722\n",
      "\n",
      "Epoch 00014: val_acc did not improve from 0.98611\n",
      "Epoch 15/30\n",
      "864/864 [==============================] - 11s 12ms/step - loss: 0.1247 - acc: 0.9618 - val_loss: 0.0346 - val_acc: 0.9907\n",
      "\n",
      "Epoch 00015: val_acc improved from 0.98611 to 0.99074, saving model to weights/model2.h5\n",
      "Epoch 16/30\n",
      "864/864 [==============================] - 11s 13ms/step - loss: 0.0977 - acc: 0.9664 - val_loss: 0.0627 - val_acc: 0.9815\n",
      "\n",
      "Epoch 00016: val_acc did not improve from 0.99074\n",
      "Epoch 17/30\n",
      "864/864 [==============================] - 12s 14ms/step - loss: 0.0928 - acc: 0.9769 - val_loss: 0.0663 - val_acc: 0.9722\n",
      "\n",
      "Epoch 00017: val_acc did not improve from 0.99074\n",
      "Epoch 18/30\n",
      "864/864 [==============================] - 10s 12ms/step - loss: 0.0892 - acc: 0.9722 - val_loss: 0.1149 - val_acc: 0.9722\n",
      "\n",
      "Epoch 00018: val_acc did not improve from 0.99074\n",
      "Epoch 19/30\n",
      "864/864 [==============================] - 10s 12ms/step - loss: 0.0792 - acc: 0.9769 - val_loss: 0.0538 - val_acc: 0.9722\n",
      "\n",
      "Epoch 00019: val_acc did not improve from 0.99074\n",
      "Epoch 20/30\n",
      "864/864 [==============================] - 11s 12ms/step - loss: 0.0721 - acc: 0.9734 - val_loss: 0.0449 - val_acc: 0.9815\n",
      "\n",
      "Epoch 00020: val_acc did not improve from 0.99074\n",
      "Epoch 21/30\n",
      "864/864 [==============================] - 10s 12ms/step - loss: 0.0836 - acc: 0.9792 - val_loss: 0.0443 - val_acc: 0.9907\n",
      "\n",
      "Epoch 00021: val_acc did not improve from 0.99074\n",
      "Epoch 22/30\n",
      "864/864 [==============================] - 10s 12ms/step - loss: 0.0939 - acc: 0.9664 - val_loss: 0.0362 - val_acc: 0.9861\n",
      "\n",
      "Epoch 00022: val_acc did not improve from 0.99074\n",
      "Epoch 23/30\n",
      "864/864 [==============================] - 10s 12ms/step - loss: 0.0808 - acc: 0.9711 - val_loss: 0.0464 - val_acc: 0.9861\n",
      "\n",
      "Epoch 00023: val_acc did not improve from 0.99074\n",
      "Epoch 24/30\n",
      "864/864 [==============================] - 13s 15ms/step - loss: 0.0696 - acc: 0.9780 - val_loss: 0.0735 - val_acc: 0.9676\n",
      "\n",
      "Epoch 00024: val_acc did not improve from 0.99074\n",
      "Epoch 25/30\n",
      "864/864 [==============================] - 11s 13ms/step - loss: 0.0675 - acc: 0.9780 - val_loss: 0.0229 - val_acc: 0.9954\n",
      "\n",
      "Epoch 00025: val_acc improved from 0.99074 to 0.99537, saving model to weights/model2.h5\n",
      "Epoch 26/30\n",
      "864/864 [==============================] - 11s 13ms/step - loss: 0.0551 - acc: 0.9803 - val_loss: 0.0298 - val_acc: 0.9954\n",
      "\n",
      "Epoch 00026: val_acc did not improve from 0.99537\n",
      "Epoch 27/30\n",
      "864/864 [==============================] - 11s 12ms/step - loss: 0.0671 - acc: 0.9780 - val_loss: 0.0332 - val_acc: 0.9861\n",
      "\n",
      "Epoch 00027: val_acc did not improve from 0.99537\n",
      "Epoch 28/30\n",
      "864/864 [==============================] - 11s 13ms/step - loss: 0.0596 - acc: 0.9826 - val_loss: 0.0338 - val_acc: 0.9861\n",
      "\n",
      "Epoch 00028: val_acc did not improve from 0.99537\n",
      "Epoch 29/30\n",
      "864/864 [==============================] - 12s 13ms/step - loss: 0.0687 - acc: 0.9757 - val_loss: 0.0708 - val_acc: 0.9722\n",
      "\n",
      "Epoch 00029: val_acc did not improve from 0.99537\n",
      "Epoch 30/30\n",
      "864/864 [==============================] - 11s 13ms/step - loss: 0.0548 - acc: 0.9826 - val_loss: 0.0311 - val_acc: 0.9861\n",
      "\n",
      "Epoch 00030: val_acc did not improve from 0.99537\n"
     ]
    },
    {
     "data": {
      "text/plain": [
       "<matplotlib.legend.Legend at 0x24556218240>"
      ]
     },
     "execution_count": 8,
     "metadata": {},
     "output_type": "execute_result"
    },
    {
     "data": {
      "image/png": "[encoded data removed]",
      "text/plain": [
       "<Figure size 1080x360 with 2 Axes>"
      ]
     },
     "metadata": {
      "needs_background": "light"
     },
     "output_type": "display_data"
    }
   ],
   "source": [
    "batch_size = 1\n",
    "result = model.fit_generator(\n",
    "      train,\n",
    "      steps_per_epoch = train.samples // batch_size,\n",
    "      validation_data = validation, \n",
    "      validation_steps = validation.samples // batch_size,\n",
    "      epochs = 30, callbacks=[mc])\n",
    "\n",
    "# Vẽ đồ thị kết quả training\n",
    "import matplotlib.pyplot as plt\n",
    "from matplotlib.gridspec import GridSpec\n",
    "\n",
    "fig = plt.figure(figsize=(15, 5))\n",
    "grid = GridSpec(ncols=2, nrows=1, figure=fig)\n",
    "\n",
    "fig.add_subplot(grid[0])\n",
    "plt.plot(result.history['acc'], label='training accuracy')\n",
    "plt.plot(result.history['val_acc'], label='val accuracy')\n",
    "plt.title('Accuracy')\n",
    "plt.xlabel('epochs')\n",
    "plt.ylabel('accuracy')\n",
    "plt.legend()\n",
    "\n",
    "fig.add_subplot(grid[1])\n",
    "plt.plot(result.history['loss'], label='training loss')\n",
    "plt.plot(result.history['val_loss'], label='val loss')\n",
    "plt.title('Loss')\n",
    "plt.xlabel('epochs')\n",
    "plt.ylabel('loss')\n",
    "plt.legend()"
   ]
  }
 ],
 "metadata": {
  "interpreter": {
   "hash": "aef14ca659a6d738f62ce4de1e560ce839b42b13d58a75b229187c6dd54a4ffd"
  },
  "kernelspec": {
   "display_name": "Python 3.6.8 64-bit ('btl': venv)",
   "language": "python",
   "name": "python3"
  },
  "language_info": {
   "codemirror_mode": {
    "name": "ipython",
    "version": 3
   },
   "file_extension": ".py",
   "mimetype": "text/x-python",
   "name": "python",
   "nbconvert_exporter": "python",
   "pygments_lexer": "ipython3",
   "version": "3.6.8"
  },
  "orig_nbformat": 4
 },
 "nbformat": 4,
 "nbformat_minor": 2
}
